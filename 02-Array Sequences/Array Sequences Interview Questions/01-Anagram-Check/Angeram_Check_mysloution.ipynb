{
 "cells": [
  {
   "attachments": {},
   "cell_type": "markdown",
   "metadata": {},
   "source": [
    "# Anagram\n",
    "\n",
    "### the code should check two given statement and find out are They anagram or not\n",
    "\n"
   ]
  },
  {
   "cell_type": "code",
   "execution_count": 9,
   "metadata": {},
   "outputs": [],
   "source": [
    "def main(text1, text2):\n",
    "\n",
    "    # Find out two entries, both are strings\n",
    "    if type(text2) and type(text1) != str:\n",
    "        return f\"{text1} and {text2} are not valid entry. please enter right values.\"\n",
    "\n",
    "\n",
    "    # now remove all spaces from statements.\n",
    "    text1_nospace = text1.replace(\" \", \"\")\n",
    "    text2_nospace = text2.replace(\" \", \"\")\n",
    "\n",
    "    # check two entries have same length\n",
    "    if len(text1_nospace) != len(text2_nospace):\n",
    "        return f\"{text1_nospace} and {text2_nospace} have not same length; so they are not Anagram \"\n",
    "\n",
    "    # if there was no problem with statements, we can check anagram.\n",
    "    else:\n",
    "        result = anagram_check(text1, text2) # name of another function that defined in blow.\n",
    "\n",
    "        \n",
    "        if result == True: # they are anagram\n",
    "            return f\"{text1} and {text2} are anagram.\"\n",
    "        \n",
    "        \n",
    "        else: # they are not anagram\n",
    "            return f\"{text1} and {text2} are not anagram.\"\n",
    "        \n",
    "    \n",
    "    \n",
    "# this function check two strings are anagram or not exactly.\n",
    "def anagram_check(text1, text2):\n",
    "    \n",
    "    check_point = True\n",
    "\n",
    "    for letter in text1:\n",
    "\n",
    "        # check letters are repeated equally in both strings.\n",
    "        if (letter not in text2) or (text2.count(letter) != text1.count(letter)): \n",
    "\n",
    "            check_point = False\n",
    "\n",
    "            return check_point\n",
    "        \n",
    "\n",
    "    return check_point"
   ]
  },
  {
   "cell_type": "code",
   "execution_count": 10,
   "metadata": {},
   "outputs": [
    {
     "data": {
      "text/plain": [
       "'dormitory and dirty room are anagram.'"
      ]
     },
     "execution_count": 10,
     "metadata": {},
     "output_type": "execute_result"
    }
   ],
   "source": [
    "main(\"dormitory\", \"dirty room\")"
   ]
  },
  {
   "attachments": {},
   "cell_type": "markdown",
   "metadata": {},
   "source": []
  },
  {
   "attachments": {},
   "cell_type": "markdown",
   "metadata": {},
   "source": []
  }
 ],
 "metadata": {
  "kernelspec": {
   "display_name": "Python 3",
   "language": "python",
   "name": "python3"
  },
  "language_info": {
   "codemirror_mode": {
    "name": "ipython",
    "version": 3
   },
   "file_extension": ".py",
   "mimetype": "text/x-python",
   "name": "python",
   "nbconvert_exporter": "python",
   "pygments_lexer": "ipython3",
   "version": "3.11.1"
  },
  "orig_nbformat": 4
 },
 "nbformat": 4,
 "nbformat_minor": 2
}
