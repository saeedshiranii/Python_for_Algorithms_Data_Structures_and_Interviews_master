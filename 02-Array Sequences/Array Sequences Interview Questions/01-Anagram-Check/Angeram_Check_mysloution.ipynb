{
 "cells": [
  {
   "attachments": {},
   "cell_type": "markdown",
   "metadata": {},
   "source": [
    "# Anagram\n",
    "\n",
    "### the code should check two given statement and find out are They anagram or not\n",
    "\n"
   ]
  },
  {
   "cell_type": "code",
   "execution_count": null,
   "metadata": {},
   "outputs": [],
   "source": [
    "def anagram_test(text1, text2):\n",
    "\n",
    "    if type(text2) and type(text1) != str:\n",
    "        return f\"{text1} and {text2} are not valid entry. please enter right values.\"\n",
    "\n",
    "    text1_nospace = text1.replace(\" \", \"\")\n",
    "    text2_nospace = text2.replace(\" \", \"\")\n",
    "\n",
    "    if len(text1_nospace) != len(text2_nospace):\n",
    "        return f\"{text1_nospace} and {text2_nospace} have not same length; so they are not Anagram \"\n",
    "\n",
    "    else:\n",
    "        pass # use for loop append true and False if there was any false value not anagram\n",
    "             # for loop if there was any false value not anagram\n",
    "\n",
    "    "
   ]
  },
  {
   "attachments": {},
   "cell_type": "markdown",
   "metadata": {},
   "source": []
  }
 ],
 "metadata": {
  "language_info": {
   "name": "python"
  },
  "orig_nbformat": 4
 },
 "nbformat": 4,
 "nbformat_minor": 2
}
