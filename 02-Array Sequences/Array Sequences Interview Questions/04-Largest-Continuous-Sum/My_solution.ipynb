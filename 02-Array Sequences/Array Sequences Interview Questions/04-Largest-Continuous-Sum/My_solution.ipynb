{
 "cells": [
  {
   "cell_type": "code",
   "execution_count": 23,
   "metadata": {},
   "outputs": [],
   "source": [
    "main_array = [1,2,-1,3,4,10,10,-10,-1]"
   ]
  },
  {
   "cell_type": "code",
   "execution_count": null,
   "metadata": {},
   "outputs": [],
   "source": [
    "def main():\n",
    "    pass"
   ]
  },
  {
   "cell_type": "code",
   "execution_count": null,
   "metadata": {},
   "outputs": [],
   "source": [
    "def scanner(main_array):\n",
    "    \n",
    "    size = len(main_array)\n",
    "    max = 0\n",
    "\n",
    "    while size != 0:\n",
    "\n",
    "        total = 0\n",
    "        for i in size:\n",
    "            total += main_array[i]\n",
    "\n",
    "            if max < total:\n",
    "                max = total\n",
    "\n",
    "\n",
    "        \n",
    "    \n"
   ]
  }
 ],
 "metadata": {
  "kernelspec": {
   "display_name": "Python 3",
   "language": "python",
   "name": "python3"
  },
  "language_info": {
   "name": "python",
   "version": "3.11.4"
  },
  "orig_nbformat": 4
 },
 "nbformat": 4,
 "nbformat_minor": 2
}
