{
 "cells": [
  {
   "cell_type": "code",
   "execution_count": null,
   "metadata": {},
   "outputs": [],
   "source": [
    "# find missing element in second array\n",
    "\n",
    "# arr1 is first array, which did not missed a value.\n",
    "# we want to check is there any duplicate element.\n",
    "def check_duplicate(arr1):\n",
    "    \n",
    "    arr1.sort()\n",
    "    for index in range(len(arr1)):\n",
    "        \n",
    "        duplicate = arr1[index] == arr1[index-1] or arr1[index] == arr1[index + 1]\n",
    "        if duplicate:\n",
    "            return True"
   ]
  },
  {
   "cell_type": "code",
   "execution_count": null,
   "metadata": {},
   "outputs": [],
   "source": [
    "def find_missing(arr1, arr2):\n",
    "    \n",
    "    arr1.sort()\n",
    "    arr2.sort()\n",
    "\n",
    "    \n",
    "\n",
    "\n",
    "    pass\n"
   ]
  }
 ],
 "metadata": {
  "language_info": {
   "name": "python"
  },
  "orig_nbformat": 4
 },
 "nbformat": 4,
 "nbformat_minor": 2
}
