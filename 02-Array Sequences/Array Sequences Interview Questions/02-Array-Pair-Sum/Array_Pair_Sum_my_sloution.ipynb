{
 "cells": [
  {
   "attachments": {},
   "cell_type": "markdown",
   "metadata": {},
   "source": []
  },
  {
   "attachments": {},
   "cell_type": "markdown",
   "metadata": {},
   "source": [
    "# Array pair sum "
   ]
  },
  {
   "attachments": {},
   "cell_type": "markdown",
   "metadata": {},
   "source": [
    "we gonna check if sum of two different elements of an array is equal\n",
    "\n",
    "for example look at array [1, 2, 2, 3] for pair sum 4, we have (2, 2) and (3, 1)"
   ]
  },
  {
   "attachments": {},
   "cell_type": "markdown",
   "metadata": {},
   "source": []
  },
  {
   "cell_type": "code",
   "execution_count": 16,
   "metadata": {},
   "outputs": [],
   "source": [
    "# a function for receive list\n",
    "\n",
    "def receive_list(sample_list, excepted_value): # sample_list is a list of numbers, excepted_value is sum of two values\n",
    "    \n",
    "    result = list()\n",
    "\n",
    "    for index in range(len(sample_list)):\n",
    "    \n",
    "        for item in range(len(sample_list)):\n",
    "\n",
    "            if (index != item):\n",
    "\n",
    "                total = sample_list[index] +sample_list[item]\n",
    "                if total == excepted_value:\n",
    "\n",
    "                    result.append({total, (sample_list[index], sample_list[item])})\n",
    "                    \n",
    "\n",
    "            else:\n",
    "                continue\n",
    "\n",
    "\n",
    "    return result\n",
    "\n"
   ]
  },
  {
   "cell_type": "code",
   "execution_count": 17,
   "metadata": {},
   "outputs": [],
   "source": [
    "a = receive_list([1, 2, 2, 3], 4)"
   ]
  },
  {
   "cell_type": "code",
   "execution_count": 18,
   "metadata": {},
   "outputs": [
    {
     "data": {
      "text/plain": [
       "[{(1, 3), 4}, {(2, 2), 4}, {(2, 2), 4}, {(3, 1), 4}]"
      ]
     },
     "execution_count": 18,
     "metadata": {},
     "output_type": "execute_result"
    }
   ],
   "source": [
    "a"
   ]
  },
  {
   "cell_type": "code",
   "execution_count": null,
   "metadata": {},
   "outputs": [],
   "source": []
  }
 ],
 "metadata": {
  "kernelspec": {
   "display_name": "Python 3",
   "language": "python",
   "name": "python3"
  },
  "language_info": {
   "codemirror_mode": {
    "name": "ipython",
    "version": 3
   },
   "file_extension": ".py",
   "mimetype": "text/x-python",
   "name": "python",
   "nbconvert_exporter": "python",
   "pygments_lexer": "ipython3",
   "version": "3.11.1"
  },
  "orig_nbformat": 4
 },
 "nbformat": 4,
 "nbformat_minor": 2
}
